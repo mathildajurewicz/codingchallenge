{
 "cells": [
  {
   "cell_type": "markdown",
   "id": "039ec7cb",
   "metadata": {},
   "source": [
    "# Coding challenge"
   ]
  },
  {
   "cell_type": "code",
   "execution_count": 2,
   "id": "3c0f4c52",
   "metadata": {},
   "outputs": [],
   "source": [
    "import numpy as np"
   ]
  },
  {
   "cell_type": "code",
   "execution_count": 21,
   "id": "bd990995",
   "metadata": {},
   "outputs": [],
   "source": [
    "# Creating the grid\n",
    "\n",
    "grid = [['0','0','0','0','0','0','0','0','0','0'],\n",
    "        ['0','0','0','0','0','0','0','0','0','0'],\n",
    "        ['0','0','0','0','0','0','0','0','0','0'],\n",
    "        ['0','0','0','0','0','0','0','0','0','0'],\n",
    "        ['0','0','0','0','0','0','0','0','0','0'],\n",
    "        ['0','0','0','0','0','0','0','0','0','0'],\n",
    "        ['0','0','0','0','0','0','0','0','0','0'],\n",
    "        ['0','0','0','0','0','0','0','1','1','1'],\n",
    "        ['0','0','0','0','0','0','0','1','0','0'],\n",
    "        ['0','0','0','0','0','0','0','0','0','X']]"
   ]
  },
  {
   "cell_type": "code",
   "execution_count": 28,
   "id": "0b75450c",
   "metadata": {},
   "outputs": [
    {
     "name": "stdout",
     "output_type": "stream",
     "text": [
      "Route is: (0,0), (1,1), (2,2), (3,3), (4,4), (5,5), (6,6), (7,6), (8,6), (9,6), (9,8), (9,9)\n",
      "Number of steps: 12\n"
     ]
    }
   ],
   "source": [
    "# Code for finding a path avoiding the obstacles\n",
    "# using the breadth first search method\n",
    "\n",
    "class Solution (object):\n",
    "    def shortestpath (self, grid):\n",
    "        numsteps = 0\n",
    "        startpos = [0,0]\n",
    "        xindex = startpos[0]\n",
    "        yindex = startpos[1]\n",
    "        row_len = len(grid)\n",
    "        column_len = len(grid[0])\n",
    "        \n",
    "        if grid[xindex][yindex] == '0':\n",
    "            queue = [startpos]\n",
    "            \n",
    "            while(queue):\n",
    "                \n",
    "                temp_queue = []\n",
    "                for item in queue:\n",
    "                    xcoor = item[0]\n",
    "                    ycoor = item[1]\n",
    "                    \n",
    "                    if grid[xcoor][ycoor] == 'X':\n",
    "                        return numsteps\n",
    "                    \n",
    "                    grid[xcoor][ycoor] = 'T'\n",
    "                    \n",
    "                    \n",
    "                    #right\n",
    "                    if xcoor-1 >= 0 and ycoor >=0 and xcoor-1<row_len and ycoor < column_len and grid[xcoor-1][ycoor] in ['0','X']:\n",
    "                        temp_queue.append([xcoor-1, ycoor])\n",
    "                    #left\n",
    "                    if xcoor >= 0 and ycoor-1 >=0 and xcoor<row_len and ycoor-1 < column_len and grid[xcoor][ycoor-1] in ['0','X']:\n",
    "                        temp_queue.append([xcoor, ycoor-1])\n",
    "                    #top\n",
    "                    if xcoor+1 >= 0 and ycoor >=0 and xcoor+1 < row_len and ycoor < column_len and grid[xcoor+1][ycoor] in ['0','X']:\n",
    "                        temp_queue.append([xcoor+1, ycoor])\n",
    "                    #bottom\n",
    "                    if xcoor >= 0 and ycoor+1 >=0 and xcoor < row_len and ycoor+1 < column_len and grid[xcoor][ycoor+1] in ['0','X']:\n",
    "                        temp_queue.append([xcoor, ycoor+1])\n",
    "                        \n",
    "                    queue = temp_queue\n",
    "                    numsteps += 1\n",
    "                    \n",
    "                return print(f\"Route is: {queue}\n",
    "                            Numer of steps: {numsteps}\")\n",
    "\n",
    "obj = Solution()\n",
    "print(obj.shortestpath(grid))"
   ]
  },
  {
   "cell_type": "markdown",
   "id": "b3e425cf",
   "metadata": {},
   "source": []
  }
 ],
 "metadata": {
  "kernelspec": {
   "display_name": "Python 3",
   "language": "python",
   "name": "python3"
  },
  "language_info": {
   "codemirror_mode": {
    "name": "ipython",
    "version": 3
   },
   "file_extension": ".py",
   "mimetype": "text/x-python",
   "name": "python",
   "nbconvert_exporter": "python",
   "pygments_lexer": "ipython3",
   "version": "3.8.8"
  }
 },
 "nbformat": 4,
 "nbformat_minor": 5
}
